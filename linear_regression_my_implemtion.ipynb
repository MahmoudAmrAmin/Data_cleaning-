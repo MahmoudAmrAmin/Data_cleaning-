{
 "cells": [
  {
   "cell_type": "code",
   "execution_count": 33,
   "id": "7809dd85-5d3d-48e2-be3c-17cbefdbd5d3",
   "metadata": {},
   "outputs": [],
   "source": [
    "import numpy as np\n",
    "import pandas as pd\n",
    "import matplotlib.pyplot as plt "
   ]
  },
  {
   "cell_type": "code",
   "execution_count": 34,
   "id": "0fe5e07b-fb1a-4036-9d6c-bcab87e73200",
   "metadata": {},
   "outputs": [
    {
     "data": {
      "text/html": [
       "<div>\n",
       "<style scoped>\n",
       "    .dataframe tbody tr th:only-of-type {\n",
       "        vertical-align: middle;\n",
       "    }\n",
       "\n",
       "    .dataframe tbody tr th {\n",
       "        vertical-align: top;\n",
       "    }\n",
       "\n",
       "    .dataframe thead th {\n",
       "        text-align: right;\n",
       "    }\n",
       "</style>\n",
       "<table border=\"1\" class=\"dataframe\">\n",
       "  <thead>\n",
       "    <tr style=\"text-align: right;\">\n",
       "      <th></th>\n",
       "      <th>Hours</th>\n",
       "      <th>Scores</th>\n",
       "    </tr>\n",
       "  </thead>\n",
       "  <tbody>\n",
       "    <tr>\n",
       "      <th>0</th>\n",
       "      <td>2.5</td>\n",
       "      <td>21</td>\n",
       "    </tr>\n",
       "    <tr>\n",
       "      <th>1</th>\n",
       "      <td>5.1</td>\n",
       "      <td>47</td>\n",
       "    </tr>\n",
       "    <tr>\n",
       "      <th>2</th>\n",
       "      <td>3.2</td>\n",
       "      <td>27</td>\n",
       "    </tr>\n",
       "    <tr>\n",
       "      <th>3</th>\n",
       "      <td>8.5</td>\n",
       "      <td>75</td>\n",
       "    </tr>\n",
       "    <tr>\n",
       "      <th>4</th>\n",
       "      <td>3.5</td>\n",
       "      <td>30</td>\n",
       "    </tr>\n",
       "    <tr>\n",
       "      <th>5</th>\n",
       "      <td>1.5</td>\n",
       "      <td>20</td>\n",
       "    </tr>\n",
       "    <tr>\n",
       "      <th>6</th>\n",
       "      <td>9.2</td>\n",
       "      <td>88</td>\n",
       "    </tr>\n",
       "    <tr>\n",
       "      <th>7</th>\n",
       "      <td>5.5</td>\n",
       "      <td>60</td>\n",
       "    </tr>\n",
       "    <tr>\n",
       "      <th>8</th>\n",
       "      <td>8.3</td>\n",
       "      <td>81</td>\n",
       "    </tr>\n",
       "    <tr>\n",
       "      <th>9</th>\n",
       "      <td>2.7</td>\n",
       "      <td>25</td>\n",
       "    </tr>\n",
       "    <tr>\n",
       "      <th>10</th>\n",
       "      <td>7.7</td>\n",
       "      <td>85</td>\n",
       "    </tr>\n",
       "    <tr>\n",
       "      <th>11</th>\n",
       "      <td>5.9</td>\n",
       "      <td>62</td>\n",
       "    </tr>\n",
       "    <tr>\n",
       "      <th>12</th>\n",
       "      <td>4.5</td>\n",
       "      <td>41</td>\n",
       "    </tr>\n",
       "    <tr>\n",
       "      <th>13</th>\n",
       "      <td>3.3</td>\n",
       "      <td>42</td>\n",
       "    </tr>\n",
       "    <tr>\n",
       "      <th>14</th>\n",
       "      <td>1.1</td>\n",
       "      <td>17</td>\n",
       "    </tr>\n",
       "    <tr>\n",
       "      <th>15</th>\n",
       "      <td>8.9</td>\n",
       "      <td>95</td>\n",
       "    </tr>\n",
       "    <tr>\n",
       "      <th>16</th>\n",
       "      <td>2.5</td>\n",
       "      <td>30</td>\n",
       "    </tr>\n",
       "    <tr>\n",
       "      <th>17</th>\n",
       "      <td>1.9</td>\n",
       "      <td>24</td>\n",
       "    </tr>\n",
       "    <tr>\n",
       "      <th>18</th>\n",
       "      <td>6.1</td>\n",
       "      <td>67</td>\n",
       "    </tr>\n",
       "    <tr>\n",
       "      <th>19</th>\n",
       "      <td>7.4</td>\n",
       "      <td>69</td>\n",
       "    </tr>\n",
       "    <tr>\n",
       "      <th>20</th>\n",
       "      <td>2.7</td>\n",
       "      <td>30</td>\n",
       "    </tr>\n",
       "    <tr>\n",
       "      <th>21</th>\n",
       "      <td>4.8</td>\n",
       "      <td>54</td>\n",
       "    </tr>\n",
       "    <tr>\n",
       "      <th>22</th>\n",
       "      <td>3.8</td>\n",
       "      <td>35</td>\n",
       "    </tr>\n",
       "    <tr>\n",
       "      <th>23</th>\n",
       "      <td>6.9</td>\n",
       "      <td>76</td>\n",
       "    </tr>\n",
       "    <tr>\n",
       "      <th>24</th>\n",
       "      <td>7.8</td>\n",
       "      <td>86</td>\n",
       "    </tr>\n",
       "  </tbody>\n",
       "</table>\n",
       "</div>"
      ],
      "text/plain": [
       "    Hours  Scores\n",
       "0     2.5      21\n",
       "1     5.1      47\n",
       "2     3.2      27\n",
       "3     8.5      75\n",
       "4     3.5      30\n",
       "5     1.5      20\n",
       "6     9.2      88\n",
       "7     5.5      60\n",
       "8     8.3      81\n",
       "9     2.7      25\n",
       "10    7.7      85\n",
       "11    5.9      62\n",
       "12    4.5      41\n",
       "13    3.3      42\n",
       "14    1.1      17\n",
       "15    8.9      95\n",
       "16    2.5      30\n",
       "17    1.9      24\n",
       "18    6.1      67\n",
       "19    7.4      69\n",
       "20    2.7      30\n",
       "21    4.8      54\n",
       "22    3.8      35\n",
       "23    6.9      76\n",
       "24    7.8      86"
      ]
     },
     "execution_count": 34,
     "metadata": {},
     "output_type": "execute_result"
    }
   ],
   "source": [
    "data = pd.read_csv('datasets/student_scores.csv')\n",
    "data\n"
   ]
  },
  {
   "cell_type": "code",
   "execution_count": 35,
   "id": "b18e2a4f",
   "metadata": {},
   "outputs": [
    {
     "data": {
      "image/png": "[encoded data removed]",
      "text/plain": [
       "<Figure size 640x480 with 1 Axes>"
      ]
     },
     "metadata": {},
     "output_type": "display_data"
    }
   ],
   "source": [
    "plt.scatter(data['Hours'].values, data['Scores'].values, color='blue', label='Training Data')\n",
    "plt.xlabel(\"Hours\")\n",
    "plt.ylabel(\"Scores\")\n",
    "plt.title(\"Generated Training Data\")\n",
    "plt.legend()\n",
    "plt.show()"
   ]
  },
  {
   "cell_type": "code",
   "execution_count": 36,
   "id": "6a4cf628",
   "metadata": {},
   "outputs": [
    {
     "name": "stdout",
     "output_type": "stream",
     "text": [
      "[[2.5]\n",
      " [5.1]\n",
      " [3.2]\n",
      " [8.5]\n",
      " [3.5]\n",
      " [1.5]\n",
      " [9.2]\n",
      " [5.5]\n",
      " [8.3]\n",
      " [2.7]\n",
      " [7.7]\n",
      " [5.9]\n",
      " [4.5]\n",
      " [3.3]\n",
      " [1.1]\n",
      " [8.9]\n",
      " [2.5]\n",
      " [1.9]\n",
      " [6.1]\n",
      " [7.4]\n",
      " [2.7]\n",
      " [4.8]\n",
      " [3.8]\n",
      " [6.9]\n",
      " [7.8]]\n",
      "*****************************\n",
      "[[2.5]\n",
      " [5.1]\n",
      " [3.2]\n",
      " [8.5]\n",
      " [3.5]\n",
      " [1.5]\n",
      " [9.2]\n",
      " [5.5]\n",
      " [8.3]\n",
      " [2.7]\n",
      " [7.7]\n",
      " [5.9]\n",
      " [4.5]\n",
      " [3.3]\n",
      " [1.1]\n",
      " [8.9]\n",
      " [2.5]\n",
      " [1.9]\n",
      " [6.1]\n",
      " [7.4]\n",
      " [2.7]\n",
      " [4.8]\n",
      " [3.8]\n",
      " [6.9]\n",
      " [7.8]]\n"
     ]
    }
   ],
   "source": [
    "feature = data[['Hours']].values  # Feature (Study Hours)\n",
    "target = data[['Scores']].values  # Target (Exam Scores)\n",
    "print(feature)\n",
    "print('*****************************')\n",
    "print(feature)"
   ]
  },
  {
   "cell_type": "code",
   "execution_count": 37,
   "id": "4e1ff6e1-1e05-4abb-bca7-8f65e339a6e7",
   "metadata": {},
   "outputs": [
    {
     "name": "stdout",
     "output_type": "stream",
     "text": [
      "(25, 1)\n"
     ]
    }
   ],
   "source": [
    "feature_mean = np.mean(feature)\n",
    "feature_std = np.std(feature) \n",
    "feature_norm = (feature - feature_mean ) / feature_std\n",
    "print(feature_norm.shape)"
   ]
  },
  {
   "cell_type": "code",
   "execution_count": 38,
   "id": "fb1cf438",
   "metadata": {},
   "outputs": [
    {
     "data": {
      "text/plain": [
       "array([[ 1.        , -1.01532822],\n",
       "       [ 1.        ,  0.03556882],\n",
       "       [ 1.        , -0.7323944 ],\n",
       "       [ 1.        ,  1.40981881],\n",
       "       [ 1.        , -0.61113705],\n",
       "       [ 1.        , -1.4195194 ],\n",
       "       [ 1.        ,  1.69275263],\n",
       "       [ 1.        ,  0.19724529],\n",
       "       [ 1.        ,  1.32898057],\n",
       "       [ 1.        , -0.93448999],\n",
       "       [ 1.        ,  1.08646587],\n",
       "       [ 1.        ,  0.35892176],\n",
       "       [ 1.        , -0.20694588],\n",
       "       [ 1.        , -0.69197529],\n",
       "       [ 1.        , -1.58119586],\n",
       "       [ 1.        ,  1.57149528],\n",
       "       [ 1.        , -1.01532822],\n",
       "       [ 1.        , -1.25784293],\n",
       "       [ 1.        ,  0.43975999],\n",
       "       [ 1.        ,  0.96520852],\n",
       "       [ 1.        , -0.93448999],\n",
       "       [ 1.        , -0.08568853],\n",
       "       [ 1.        , -0.4898797 ],\n",
       "       [ 1.        ,  0.76311293],\n",
       "       [ 1.        ,  1.12688499]])"
      ]
     },
     "execution_count": 38,
     "metadata": {},
     "output_type": "execute_result"
    }
   ],
   "source": [
    "# add intercept column to theata matrix \n",
    "\n",
    "final_feature = np.c_[np.ones((feature_norm.shape[0] , 1)) , feature_norm]\n",
    "final_feature"
   ]
  },
  {
   "cell_type": "code",
   "execution_count": 39,
   "id": "0da57362",
   "metadata": {},
   "outputs": [],
   "source": [
    "#dfine  the Cost Function (Mean Squared Error)\n",
    "def compute_cost(feature, target, theta):\n",
    "    m = len(target)  # Number of training examples\n",
    "    predictions = feature.dot(theta)  # h_theta(x) = theta_0 + theta_1 * x\n",
    "    cost = (1 / (2 * m)) * np.sum((predictions - target) ** 2)\n",
    "    return cost\n",
    "\n"
   ]
  },
  {
   "cell_type": "code",
   "execution_count": 40,
   "id": "03e9cafc",
   "metadata": {},
   "outputs": [],
   "source": [
    "# Gradient Descent Algorithm\n",
    "\n",
    "def gradient_desent (feature , traget , theta , alpha,  iteration) : \n",
    "    m = len(target)\n",
    "    cost_history = []\n",
    "\n",
    "    for i in range(iteration):\n",
    "        predictions = feature.dot(theta)\n",
    "        \n",
    "        errors = predictions - traget\n",
    "\n",
    "        theta -= 1/m * alpha * feature.T.dot(errors)\n",
    "\n",
    "        cost_history.append(compute_cost(feature , traget , theta))\n",
    "    return theta , cost_history    \n",
    "\n"
   ]
  },
  {
   "cell_type": "code",
   "execution_count": 41,
   "id": "e9d246af",
   "metadata": {},
   "outputs": [],
   "source": [
    "# Initialize parameters\n",
    "theta_initial = np.random.randn(2, 1)\n",
    "alpha = 0.1  # Learning rate\n",
    "iterations = 1000\n"
   ]
  },
  {
   "cell_type": "code",
   "execution_count": 42,
   "id": "e13c6b1d",
   "metadata": {},
   "outputs": [],
   "source": [
    "theta_optimal, cost_history = gradient_desent(final_feature , target , theta_initial , alpha , iterations) "
   ]
  },
  {
   "cell_type": "code",
   "execution_count": 48,
   "id": "cf00e59a",
   "metadata": {},
   "outputs": [
    {
     "data": {
      "image/png": "[encoded data removed]",
      "text/plain": [
       "<Figure size 640x480 with 1 Axes>"
      ]
     },
     "metadata": {},
     "output_type": "display_data"
    }
   ],
   "source": [
    "# Plot Cost Function Convergence\n",
    "plt.plot(range(iterations), cost_history, color='red')\n",
    "plt.xlabel(\"Iterations\")\n",
    "plt.ylabel(\"Cost (J)\")\n",
    "plt.title(\"Cost Function Convergence\")\n",
    "plt.show()"
   ]
  },
  {
   "cell_type": "code",
   "execution_count": 47,
   "id": "a163e4c0",
   "metadata": {},
   "outputs": [
    {
     "data": {
      "image/png": "[encoded data removed]",
      "text/plain": [
       "<Figure size 640x480 with 1 Axes>"
      ]
     },
     "metadata": {},
     "output_type": "display_data"
    }
   ],
   "source": [
    "# Plot Best-Fit Line\n",
    "feature_orig = feature_norm * feature_std + feature_mean  # Reverse normalization\n",
    "plt.scatter(feature_orig, target, color='blue', label=\"Training Data\")\n",
    "plt.plot(feature_orig, final_feature.dot(theta_optimal), color='red', label=\"Best Fit Line\")\n",
    "plt.xlabel(\"Study Hours\")\n",
    "plt.ylabel(\"Exam Scores\")\n",
    "plt.title(\"Linear Regression Model\")\n",
    "plt.legend()\n",
    "plt.show()"
   ]
  },
  {
   "cell_type": "code",
   "execution_count": 49,
   "id": "4234e8fd",
   "metadata": {},
   "outputs": [
    {
     "name": "stdout",
     "output_type": "stream",
     "text": [
      "Optimal Theta (Parameters): [[51.48      ]\n",
      " [24.18608835]]\n"
     ]
    }
   ],
   "source": [
    "print(\"Optimal Theta (Parameters):\", theta_optimal)"
   ]
  },
  {
   "cell_type": "code",
   "execution_count": 50,
   "id": "8183a961",
   "metadata": {},
   "outputs": [
    {
     "data": {
      "text/plain": [
       "(2, 1)"
      ]
     },
     "execution_count": 50,
     "metadata": {},
     "output_type": "execute_result"
    }
   ],
   "source": [
    "theta_optimal.shape"
   ]
  },
  {
   "cell_type": "code",
   "execution_count": null,
   "id": "4f30c0ad",
   "metadata": {},
   "outputs": [],
   "source": []
  }
 ],
 "metadata": {
  "kernelspec": {
   "display_name": "base2",
   "language": "python",
   "name": "python3"
  },
  "language_info": {
   "codemirror_mode": {
    "name": "ipython",
    "version": 3
   },
   "file_extension": ".py",
   "mimetype": "text/x-python",
   "name": "python",
   "nbconvert_exporter": "python",
   "pygments_lexer": "ipython3",
   "version": "3.10.16"
  }
 },
 "nbformat": 4,
 "nbformat_minor": 5
}
